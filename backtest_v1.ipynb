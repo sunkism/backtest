{
 "cells": [
  {
   "cell_type": "code",
   "execution_count": 24,
   "metadata": {},
   "outputs": [],
   "source": [
    "import sys\n",
    "import pandas as pd\n",
    "import numpy as np\n",
    "\n",
    "# INPUT FILE\n",
    "in_file = 'price_069500.xlsx'\n",
    "\n",
    "df1 = pd.read_excel(in_file,dtype='unicode')\n",
    "\n",
    "# 시계열데이터로 변환\n",
    "df1.set_index('DATE', inplace=True)\n",
    "df1.index = pd.to_datetime(df.index)\n",
    "\n",
    "# 값을 float로 바꾸고, 전일가와 등락률을 계산 (전일가격은 혹시몰라서 가져옴)"
   ]
  },
  {
   "cell_type": "code",
   "execution_count": 30,
   "metadata": {},
   "outputs": [],
   "source": [
    "# 값을 float로 바꾸고, 전일가와 등락률을 계산 (전일가격은 혹시몰라서 가져옴)\n",
    "df['PRICE'] = df['PRICE'].astype(float)\n",
    "df['PREV'] = df['PRICE'].shift(1)\n",
    "df['RETURN'] = df['PRICE'].pct_change()"
   ]
  },
  {
   "cell_type": "code",
   "execution_count": 136,
   "metadata": {},
   "outputs": [],
   "source": [
    "def makeTS_03():\n",
    "\treturn str(int(datetime.datetime.now().timestamp()))\n"
   ]
  },
  {
   "cell_type": "code",
   "execution_count": 164,
   "metadata": {},
   "outputs": [
    {
     "name": "stdout",
     "output_type": "stream",
     "text": [
      "처리시간 : 1.42918062210083\n",
      "finish!!\n"
     ]
    }
   ],
   "source": [
    "# test1 시계열 데이터가 다른 종목 간 합쳐보기. 중간 빈데이터는 직전일 가격으로 세팅해보기\n",
    "import sys\n",
    "import pandas as pd\n",
    "import numpy as np\n",
    "import time, datetime\n",
    "\n",
    "\n",
    "# SYMBOL\n",
    "portfolio = ['069500','261220','332940','371450','HERO','SPY']\n",
    "alloc = [15,15,20,25,15,10]\n",
    "\n",
    "prc_list = []\n",
    "for item in portfolio :\n",
    "    # excel 파일 읽기\n",
    "    infile = 'price_' + item + '.xlsx'\n",
    "    df = pd.read_excel(infile,dtype='unicode')\n",
    "    \n",
    "    # timeseries로 변환\n",
    "    df.set_index('DATE', inplace=True)\n",
    "    df.index = pd.to_datetime(df.index)\n",
    "    \n",
    "    # 컬럼명 'PRICE'를 symbol code로 바꾼다\n",
    "    df.rename(columns={'PRICE':item},inplace=True)\n",
    "    df[item] = df[item].astype(float)\n",
    "    prc_list.append(df)\n",
    "\n",
    "# 하나의 DATAFRAME으로 합친다\n",
    "prc_df = pd.concat(prc_list,join='outer',axis=1)\n",
    "\n",
    "# 결측값(N/A)을 처리한다. method='pad'를 넣으면 N/A부분을 직전값으로 대체한다. \n",
    "# 상장이 늦게된종목의 경우 앞에서 부터 계속 N/A이므로 대체가 안된다 (나중에 0으로 바꿀지 고민해보자)\n",
    "prc_df.fillna(method='pad',inplace=True)\n",
    "\n",
    "# EXCEL에 쓰기 - 시계열에서 시간까지 보여지니 복잡하다. 날짜만 보여주자 => 이거하니까 loc로 접근이 안됨 ㅡ.ㅡ;\n",
    "# df.index = df.index.date은 concat 후에 변환하자. concat 전에 하면, 늦게 상장한 종목부터 합쳐진다 ㅡ.ㅡ;\n",
    "#prc_df.index = prc_df.index.date\n",
    "prc_df.to_excel(\"concat_result.xlsx\")\n",
    "\n",
    "# 수익률 구하기\n",
    "rtn_df = prc_df.pct_change()\n",
    "rtn_df.fillna(0,inplace=True)\n",
    "\n",
    "# 일별 비중 및 지수계산\n",
    "wght_df = pd.DataFrame(data=None, columns=rtn_df.columns, index=rtn_df.index)\n",
    "tot_rtn_df = pd.DataFrame(data=None,columns=['TOT_RTN','INDEX'], index=rtn_df.index)\n",
    "\n",
    "# 비중 초기화\n",
    "wght_df.iloc[0] = alloc\n",
    "wght_df.iloc[0] = wght_df.iloc[0] / 100\n",
    "\n",
    "# 지수 계산\n",
    "t1 = time.time()\n",
    "my_index = 1000.00\n",
    "for i in range(0, len(wght_df)) :\n",
    "    #당일 수익계산\n",
    "    total_return = (wght_df.iloc[i] * rtn_df.iloc[i]).sum() / wght_df.iloc[i].sum()\n",
    "    tot_rtn_df.iloc[i,0] = total_return\n",
    "    my_index = my_index * (1+total_return)\n",
    "    tot_rtn_df.iloc[i,1] = my_index\n",
    "\n",
    "    #익일 적용할 비중계산 (마지막 ROW는 실행하지 않는다!)\n",
    "    if i < (len(wght_df) -1):\n",
    "        wght_df.iloc[i+1] = wght_df.iloc[i] * ( 1+ rtn_df.iloc[i] )\n",
    "        my_index = my_index+1\n",
    "\n",
    "t2 = time.time()\n",
    "elapsed_time = t2 - t1\n",
    "print(f\"처리시간 : {elapsed_time}\")\n",
    "\n",
    "\n",
    "\n",
    "print(\"finish!!\")\n",
    "tot_rtn_df.to_excel(\"myindex.xlsx\")\n",
    "    "
   ]
  },
  {
   "cell_type": "code",
   "execution_count": 3,
   "metadata": {},
   "outputs": [
    {
     "name": "stdout",
     "output_type": "stream",
     "text": [
      "처리시간 : 0.018948078155517578\n",
      "finish!!\n"
     ]
    }
   ],
   "source": [
    "# test2 시계열 데이터가 다른 종목 간 합쳐보기. 중간 빈데이터는 직전일 가격으로 세팅해보기\n",
    "import sys\n",
    "import pandas as pd\n",
    "import numpy as np\n",
    "import time, datetime\n",
    "\n",
    "\n",
    "# SYMBOL\n",
    "portfolio = ['069500','261220','332940','371450','HERO','SPY']\n",
    "alloc = [15,15,20,25,15,10]\n",
    "\n",
    "prc_list = []\n",
    "for item in portfolio :\n",
    "    # excel 파일 읽기\n",
    "    infile = 'price_' + item + '.xlsx'\n",
    "    df = pd.read_excel(infile,dtype='unicode')\n",
    "    \n",
    "    # timeseries로 변환\n",
    "    df.set_index('DATE', inplace=True)\n",
    "    df.index = pd.to_datetime(df.index)\n",
    "    \n",
    "    # 컬럼명 'PRICE'를 symbol code로 바꾼다\n",
    "    df.rename(columns={'PRICE':item},inplace=True)\n",
    "    df[item] = df[item].astype(float)\n",
    "    prc_list.append(df)\n",
    "\n",
    "# 하나의 DATAFRAME으로 합친다\n",
    "prc_df = pd.concat(prc_list,join='outer',axis=1)\n",
    "\n",
    "# 결측값(N/A)을 처리한다. method='pad'를 넣으면 N/A부분을 직전값으로 대체한다. \n",
    "# 상장이 늦게된종목의 경우 앞에서 부터 계속 N/A이므로 대체가 안된다 (나중에 0으로 바꿀지 고민해보자)\n",
    "prc_df.fillna(method='pad',inplace=True)\n",
    "\n",
    "# EXCEL에 쓰기 \n",
    "# df.index = df.index.date은 concat 후에 변환하자. concat 전에 하면, 늦게 상장한 종목부터 합쳐진다\n",
    "# prc_df.index = prc_df.index.date\n",
    "# prc_df.to_excel(\"concat_result.xlsx\")\n",
    "\n",
    "# 수익률 구하기\n",
    "rtn_df = prc_df.pct_change()\n",
    "rtn_df.fillna(0,inplace=True) # 첫날의 수익률은 0으로 SET\n",
    "\n",
    "# 일별 비중 및 지수계산\n",
    "wght_df = pd.DataFrame(data=None, columns=rtn_df.columns, index=rtn_df.index)\n",
    "\n",
    "# 비중 초기화\n",
    "wght_df.iloc[0] = alloc\n",
    "wght_df.iloc[0] = wght_df.iloc[0] / 100\n",
    "\n",
    "# 지수 계산\n",
    "t1 = time.time()\n",
    "\n",
    "# 빠른처리를 위해 dict로 변환 후 iteration 작업\n",
    "rtn_dict = rtn_df.to_dict('split')\n",
    "wght_dict = wght_df.to_dict('split')\n",
    "\n",
    "rtns = rtn_dict['data']\n",
    "wghts = wght_dict['data']\n",
    "\n",
    "my_index = 1000\n",
    "tot_rtn_list = []\n",
    "my_index_list = []\n",
    "\n",
    "for i in range(0,len(rtns)) :\n",
    "    tot_rtn = sum([ x*y for (x,y) in zip(rtns[i], wghts[i]) ]) / sum(wghts[i])\n",
    "    my_index = my_index * (1+tot_rtn)\n",
    "    tot_rtn_list.append(tot_rtn)\n",
    "    my_index_list.append(my_index)\n",
    "    \n",
    "    if i < ( len(rtns) -1 ) :\n",
    "        wghts[i+1] = [ (1+x)*y for (x,y) in zip(rtns[i],wghts[i])]\n",
    "\n",
    "t2 = time.time()\n",
    "elapsed_time = t2 - t1\n",
    "print(f\"처리시간 : {elapsed_time}\")\n",
    "\n",
    "index_df = pd.DataFrame({'INDEX':my_index_list, 'TOT_RTN':tot_rtn_list},index=rtn_df.index)\n",
    "\n",
    "print(\"finish!!\")\n",
    "\n",
    "index_df.to_excel(\"myindex_2.xlsx\")"
   ]
  },
  {
   "cell_type": "code",
   "execution_count": 307,
   "metadata": {},
   "outputs": [
    {
     "data": {
      "text/plain": [
       "nan"
      ]
     },
     "execution_count": 307,
     "metadata": {},
     "output_type": "execute_result"
    }
   ],
   "source": [
    "sum([ x*y for (x,y) in zip(rtns[1], wghts[1]) ]) / sum(wghts[i])"
   ]
  },
  {
   "cell_type": "code",
   "execution_count": 312,
   "metadata": {},
   "outputs": [
    {
     "data": {
      "text/html": [
       "<div>\n",
       "<style scoped>\n",
       "    .dataframe tbody tr th:only-of-type {\n",
       "        vertical-align: middle;\n",
       "    }\n",
       "\n",
       "    .dataframe tbody tr th {\n",
       "        vertical-align: top;\n",
       "    }\n",
       "\n",
       "    .dataframe thead th {\n",
       "        text-align: right;\n",
       "    }\n",
       "</style>\n",
       "<table border=\"1\" class=\"dataframe\">\n",
       "  <thead>\n",
       "    <tr style=\"text-align: right;\">\n",
       "      <th></th>\n",
       "      <th>INDEX</th>\n",
       "      <th>TOT_RTN</th>\n",
       "    </tr>\n",
       "    <tr>\n",
       "      <th>DATE</th>\n",
       "      <th></th>\n",
       "      <th></th>\n",
       "    </tr>\n",
       "  </thead>\n",
       "  <tbody>\n",
       "    <tr>\n",
       "      <th>2018-01-02</th>\n",
       "      <td>1000.000000</td>\n",
       "      <td>0.000000</td>\n",
       "    </tr>\n",
       "    <tr>\n",
       "      <th>2018-01-03</th>\n",
       "      <td>1000.371254</td>\n",
       "      <td>0.000371</td>\n",
       "    </tr>\n",
       "    <tr>\n",
       "      <th>2018-01-04</th>\n",
       "      <td>1003.994530</td>\n",
       "      <td>0.003622</td>\n",
       "    </tr>\n",
       "    <tr>\n",
       "      <th>2018-01-05</th>\n",
       "      <td>1006.262039</td>\n",
       "      <td>0.002258</td>\n",
       "    </tr>\n",
       "    <tr>\n",
       "      <th>2018-01-08</th>\n",
       "      <td>1006.467584</td>\n",
       "      <td>0.000204</td>\n",
       "    </tr>\n",
       "    <tr>\n",
       "      <th>...</th>\n",
       "      <td>...</td>\n",
       "      <td>...</td>\n",
       "    </tr>\n",
       "    <tr>\n",
       "      <th>2021-04-05</th>\n",
       "      <td>1363.912974</td>\n",
       "      <td>0.005781</td>\n",
       "    </tr>\n",
       "    <tr>\n",
       "      <th>2021-04-06</th>\n",
       "      <td>1363.494166</td>\n",
       "      <td>-0.000307</td>\n",
       "    </tr>\n",
       "    <tr>\n",
       "      <th>2021-04-07</th>\n",
       "      <td>1363.838217</td>\n",
       "      <td>0.000252</td>\n",
       "    </tr>\n",
       "    <tr>\n",
       "      <th>2021-04-08</th>\n",
       "      <td>1366.719721</td>\n",
       "      <td>0.002113</td>\n",
       "    </tr>\n",
       "    <tr>\n",
       "      <th>2021-04-09</th>\n",
       "      <td>1365.993980</td>\n",
       "      <td>-0.000531</td>\n",
       "    </tr>\n",
       "  </tbody>\n",
       "</table>\n",
       "<p>848 rows × 2 columns</p>\n",
       "</div>"
      ],
      "text/plain": [
       "                  INDEX   TOT_RTN\n",
       "DATE                             \n",
       "2018-01-02  1000.000000  0.000000\n",
       "2018-01-03  1000.371254  0.000371\n",
       "2018-01-04  1003.994530  0.003622\n",
       "2018-01-05  1006.262039  0.002258\n",
       "2018-01-08  1006.467584  0.000204\n",
       "...                 ...       ...\n",
       "2021-04-05  1363.912974  0.005781\n",
       "2021-04-06  1363.494166 -0.000307\n",
       "2021-04-07  1363.838217  0.000252\n",
       "2021-04-08  1366.719721  0.002113\n",
       "2021-04-09  1365.993980 -0.000531\n",
       "\n",
       "[848 rows x 2 columns]"
      ]
     },
     "execution_count": 312,
     "metadata": {},
     "output_type": "execute_result"
    }
   ],
   "source": [
    "index_df"
   ]
  },
  {
   "cell_type": "code",
   "execution_count": 292,
   "metadata": {},
   "outputs": [],
   "source": [
    "# 빠른처리를 위해 dict로 변환 후 iteration 작업\n",
    "rtn_dict = rtn_df.to_dict('split')\n",
    "wght_dict = wght_df.to_dict('split')\n",
    "\n",
    "rtns = rtn_dict['data']\n",
    "wghts = wght_dict['data']\n",
    "\n"
   ]
  },
  {
   "cell_type": "code",
   "execution_count": 61,
   "metadata": {},
   "outputs": [],
   "source": [
    "# test2 시계열 데이터가 다른 종목 간 합쳐보기. 중간 빈데이터는 직전일 가격으로 세팅해보기\n",
    "import sys\n",
    "import pandas as pd\n",
    "import numpy as np\n",
    "\n",
    "# SYMBOL\n",
    "portfolio = ['069500','261220','332940','371450','HERO','SPY']\n",
    "alloc = [15,15,20,25,10,5]\n",
    "\n",
    "prc_list = []\n",
    "for item in portfolio :\n",
    "    # excel 파일 읽기\n",
    "    infile = 'price_' + item + '.xlsx'\n",
    "    df = pd.read_excel(infile,dtype='unicode')\n",
    "    \n",
    "    # timeseries로 변환\n",
    "    df.set_index('DATE', inplace=True)\n",
    "    df.index = pd.to_datetime(df.index)\n",
    "    \n",
    "    # 컬럼명 'PRICE'를 symbol code로 바꾼다\n",
    "    df.rename(columns={'PRICE':item},inplace=True)\n",
    "    df[item] = df[item].astype(float)\n",
    "    prc_list.append(df)"
   ]
  },
  {
   "cell_type": "code",
   "execution_count": 63,
   "metadata": {},
   "outputs": [
    {
     "data": {
      "text/plain": [
       "069500    30892.0\n",
       "Name: 2018-01-02 00:00:00, dtype: float64"
      ]
     },
     "execution_count": 63,
     "metadata": {},
     "output_type": "execute_result"
    }
   ],
   "source": [
    "prc_list[0].loc['2018-01-02']"
   ]
  },
  {
   "cell_type": "code",
   "execution_count": 326,
   "metadata": {},
   "outputs": [],
   "source": [
    "a = wght_df * rtn_df"
   ]
  },
  {
   "cell_type": "code",
   "execution_count": 332,
   "metadata": {},
   "outputs": [
    {
     "name": "stdout",
     "output_type": "stream",
     "text": [
      "3\n"
     ]
    }
   ],
   "source": [
    "a = 1\n",
    "b = 2\n",
    "c = a+ b\n",
    "print(c)"
   ]
  },
  {
   "cell_type": "code",
   "execution_count": null,
   "metadata": {},
   "outputs": [],
   "source": []
  }
 ],
 "metadata": {
  "kernelspec": {
   "display_name": "Python 3",
   "language": "python",
   "name": "python3"
  },
  "language_info": {
   "codemirror_mode": {
    "name": "ipython",
    "version": 3
   },
   "file_extension": ".py",
   "mimetype": "text/x-python",
   "name": "python",
   "nbconvert_exporter": "python",
   "pygments_lexer": "ipython3",
   "version": "3.7.0"
  }
 },
 "nbformat": 4,
 "nbformat_minor": 2
}
